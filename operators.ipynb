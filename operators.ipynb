{
 "cells": [
  {
   "cell_type": "code",
   "execution_count": 1,
   "id": "fb67ad0f-b146-4d91-a124-51d1a09fcc09",
   "metadata": {},
   "outputs": [
    {
     "name": "stdout",
     "output_type": "stream",
     "text": [
      "1125\n",
      "125\n",
      "312500\n",
      "1.25\n",
      "125\n",
      "1\n"
     ]
    }
   ],
   "source": [
    "#arthemetic operators\n",
    "#addition\n",
    "a=625\n",
    "b=500\n",
    "c=a+b\n",
    "print(c)\n",
    "\n",
    "#subtraction\n",
    "e=a-b\n",
    "print(e)\n",
    "\n",
    "#multiplication\n",
    "d=a*b\n",
    "print(d)\n",
    "\n",
    "#divison\n",
    "f=a/b\n",
    "print(f)\n",
    "\n",
    "#modulus\n",
    "k=a%b\n",
    "print(k)\n",
    "\n",
    "#floor division\n",
    "m=a//b\n",
    "print(m)"
   ]
  },
  {
   "cell_type": "code",
   "execution_count": 9,
   "id": "fb779368-ab2d-46d6-b668-b1ce876ab866",
   "metadata": {},
   "outputs": [
    {
     "name": "stdout",
     "output_type": "stream",
     "text": [
      "163\n",
      "65\n",
      "6370\n",
      "65.0\n",
      "65.0\n",
      "4.629232047296698e+177\n"
     ]
    }
   ],
   "source": [
    "#assignment operators\n",
    "a=65\n",
    "b=98\n",
    "\n",
    "#addition assignment\n",
    "a+=b\n",
    "print(a)\n",
    "\n",
    "#subtraction assignment\n",
    "a-=b\n",
    "print(a)\n",
    "\n",
    "#multiplication assignment\n",
    "a*=b\n",
    "print(a)\n",
    "\n",
    "#division assignment\n",
    "a/=b\n",
    "print(a)\n",
    "\n",
    "#modulus assignment\n",
    "a%=b\n",
    "print(a)\n",
    "\n",
    "#exponent assignment\n",
    "a**=b\n",
    "print(a)"
   ]
  },
  {
   "cell_type": "code",
   "execution_count": 11,
   "id": "734428c1-b3e0-4c07-b76e-1d3f813054cf",
   "metadata": {},
   "outputs": [
    {
     "data": {
      "text/plain": [
       "True"
      ]
     },
     "execution_count": 11,
     "metadata": {},
     "output_type": "execute_result"
    }
   ],
   "source": [
    "#comparision operator\n",
    "#is equal to\n",
    "c=200\n",
    "f=200\n",
    "c==f"
   ]
  },
  {
   "cell_type": "code",
   "execution_count": 13,
   "id": "804cba77-5247-401a-9929-d02edd49b3f3",
   "metadata": {},
   "outputs": [
    {
     "data": {
      "text/plain": [
       "True"
      ]
     },
     "execution_count": 13,
     "metadata": {},
     "output_type": "execute_result"
    }
   ],
   "source": [
    "#not equal to \n",
    "red=50\n",
    "blue=40\n",
    "red!=blue"
   ]
  },
  {
   "cell_type": "code",
   "execution_count": 15,
   "id": "67399132-97a1-4983-bcf2-d8b6db32cbe6",
   "metadata": {},
   "outputs": [
    {
     "data": {
      "text/plain": [
       "True"
      ]
     },
     "execution_count": 15,
     "metadata": {},
     "output_type": "execute_result"
    }
   ],
   "source": [
    "#lessthan\n",
    "pink=44\n",
    "sky=4444\n",
    "pink<sky"
   ]
  },
  {
   "cell_type": "code",
   "execution_count": 27,
   "id": "777e869b-3596-4faa-a0ab-c8498da751f7",
   "metadata": {},
   "outputs": [
    {
     "data": {
      "text/plain": [
       "True"
      ]
     },
     "execution_count": 27,
     "metadata": {},
     "output_type": "execute_result"
    }
   ],
   "source": [
    "#lessthan or equal to\n",
    "a=4\n",
    "b=4\n",
    "a<=b"
   ]
  },
  {
   "cell_type": "code",
   "execution_count": 29,
   "id": "0d260b2f-c8f1-4132-ac52-b377b0fe6952",
   "metadata": {},
   "outputs": [
    {
     "data": {
      "text/plain": [
       "True"
      ]
     },
     "execution_count": 29,
     "metadata": {},
     "output_type": "execute_result"
    }
   ],
   "source": [
    "#greaterthan or equal to\n",
    "a=555\n",
    "b=68\n",
    "a>b"
   ]
  },
  {
   "cell_type": "code",
   "execution_count": 31,
   "id": "769c614f-d133-4367-a349-fd26b6adfe9f",
   "metadata": {},
   "outputs": [
    {
     "name": "stdout",
     "output_type": "stream",
     "text": [
      "False\n",
      "True\n",
      "True\n",
      "False\n"
     ]
    }
   ],
   "source": [
    "#logical operators\n",
    "k=555\n",
    "q=291\n",
    "c=k is q\n",
    "d=k is not q\n",
    "\n",
    "#and \n",
    "f=c and d\n",
    "print(f)\n",
    "\n",
    "#or\n",
    "f=c or d\n",
    "print(f)\n",
    "\n",
    "#not\n",
    "print(not(c))\n",
    "print(not(d))\n",
    "\n"
   ]
  },
  {
   "cell_type": "code",
   "execution_count": 33,
   "id": "8b562dda-dd46-49f8-9673-da8242da0336",
   "metadata": {},
   "outputs": [
    {
     "name": "stdout",
     "output_type": "stream",
     "text": [
      "True\n",
      "True\n"
     ]
    }
   ],
   "source": [
    "#identity operator\n",
    "#is \n",
    "babu=\"human\"\n",
    "rishi=\"human\"\n",
    "c=babu is rishi\n",
    "print(c)\n",
    "\n",
    "#is not\n",
    "babu=\"human\"\n",
    "rishi=\"robot\"\n",
    "k=babu is not rishi\n",
    "print(k)\n",
    "\n"
   ]
  },
  {
   "cell_type": "code",
   "execution_count": 37,
   "id": "04afc7cd-04cd-48b7-9b30-eaac24b6f246",
   "metadata": {},
   "outputs": [
    {
     "ename": "SyntaxError",
     "evalue": "invalid syntax. Perhaps you forgot a comma? (3221487400.py, line 6)",
     "output_type": "error",
     "traceback": [
      "\u001b[1;36m  Cell \u001b[1;32mIn[37], line 6\u001b[1;36m\u001b[0m\n\u001b[1;33m    print('mahesh' in guntur karam)\u001b[0m\n\u001b[1;37m          ^\u001b[0m\n\u001b[1;31mSyntaxError\u001b[0m\u001b[1;31m:\u001b[0m invalid syntax. Perhaps you forgot a comma?\n"
     ]
    }
   ],
   "source": [
    "#membership operator\n",
    "gunturkaram=['mahesh','leela','sunil','anjali','mukesh']\n",
    "sarkaruvaaripaata=['mahesh','keethy suresh','vennela kishore','ajay',]\n",
    "\n",
    "#in \n",
    "print('mahesh' in guntur karam)\n",
    "\n",
    "#not in\n",
    "print('leela' not in sarkaru vaari paata)\n",
    "\n",
    "    "
   ]
  },
  {
   "cell_type": "code",
   "execution_count": null,
   "id": "94863807-7aa4-4fb8-a74b-2d01717b8481",
   "metadata": {},
   "outputs": [],
   "source": []
  }
 ],
 "metadata": {
  "kernelspec": {
   "display_name": "Python 3 (ipykernel)",
   "language": "python",
   "name": "python3"
  },
  "language_info": {
   "codemirror_mode": {
    "name": "ipython",
    "version": 3
   },
   "file_extension": ".py",
   "mimetype": "text/x-python",
   "name": "python",
   "nbconvert_exporter": "python",
   "pygments_lexer": "ipython3",
   "version": "3.12.4"
  }
 },
 "nbformat": 4,
 "nbformat_minor": 5
}
