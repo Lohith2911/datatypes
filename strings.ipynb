{
 "cells": [
  {
   "cell_type": "code",
   "execution_count": 49,
   "id": "939436ca-934f-484d-9a8d-c604f83dada7",
   "metadata": {},
   "outputs": [
    {
     "name": "stdout",
     "output_type": "stream",
     "text": [
      "LOHITH,MANCHI BALUDUU!\n"
     ]
    }
   ],
   "source": [
    "#capitalize \n",
    "my_string = 'lohith,manchi baluduu!'\n",
    "print(my_string.upper())"
   ]
  },
  {
   "cell_type": "code",
   "execution_count": 7,
   "id": "c1b39bb7-9858-46bc-85c9-474d42641de3",
   "metadata": {},
   "outputs": [
    {
     "name": "stdout",
     "output_type": "stream",
     "text": [
      "datta,king!\n"
     ]
    }
   ],
   "source": [
    "#lower\n",
    "my_string='DATTA,KING!'\n",
    "print(my_string.lower())"
   ]
  },
  {
   "cell_type": "code",
   "execution_count": 14,
   "id": "b131a6a0-52c8-4571-86ed-a7cb854ed8b4",
   "metadata": {},
   "outputs": [
    {
     "name": "stdout",
     "output_type": "stream",
     "text": [
      "  krish   \n",
      "**krish***\n"
     ]
    }
   ],
   "source": [
    "#center\n",
    "my_string='krish'\n",
    "print(my_string.center(10))\n",
    "print(my_string.center(10,  '*'))"
   ]
  },
  {
   "cell_type": "code",
   "execution_count": 18,
   "id": "e7d2cb48-80fe-4ada-8405-4bb48e0360ff",
   "metadata": {},
   "outputs": [
    {
     "name": "stdout",
     "output_type": "stream",
     "text": [
      "2\n"
     ]
    }
   ],
   "source": [
    "#count\n",
    "my_string='lohith,datta,sai,datta!'\n",
    "print(my_string.count('datta'))"
   ]
  },
  {
   "cell_type": "code",
   "execution_count": 20,
   "id": "c5cee8fa-f916-431e-bf4b-aa2e2b0cf591",
   "metadata": {},
   "outputs": [
    {
     "name": "stdout",
     "output_type": "stream",
     "text": [
      "b'munny,chunni!'\n"
     ]
    }
   ],
   "source": [
    "#encode\n",
    "my_string='munny,chunni!'\n",
    "print(my_string.encode())"
   ]
  },
  {
   "cell_type": "code",
   "execution_count": 29,
   "id": "70a8377c-fa93-4138-b88d-e36d38990c4d",
   "metadata": {},
   "outputs": [
    {
     "name": "stdout",
     "output_type": "stream",
     "text": [
      "False\n"
     ]
    }
   ],
   "source": [
    "#endswith\n",
    "my_string='pavani,srinu!'\n",
    "print(my_string.endswith('pavani!'))"
   ]
  },
  {
   "cell_type": "code",
   "execution_count": 31,
   "id": "82696e1c-30bd-4cb0-bb2b-d275d932b561",
   "metadata": {},
   "outputs": [
    {
     "name": "stdout",
     "output_type": "stream",
     "text": [
      "hello   world!\n"
     ]
    }
   ],
   "source": [
    "#expandtabs\n",
    "my_string='hello\\tworld!'\n",
    "print(my_string.expandtabs())"
   ]
  },
  {
   "cell_type": "code",
   "execution_count": 33,
   "id": "c55b9545-022c-4ab2-ba6c-a1eb885441eb",
   "metadata": {},
   "outputs": [
    {
     "name": "stdout",
     "output_type": "stream",
     "text": [
      "6\n"
     ]
    }
   ],
   "source": [
    "#find\n",
    "my_string='krish,world!'\n",
    "print(my_string.find('world'))"
   ]
  },
  {
   "cell_type": "code",
   "execution_count": 35,
   "id": "2d8e7fca-a107-41c4-91b1-3b9eddecc860",
   "metadata": {},
   "outputs": [
    {
     "name": "stdout",
     "output_type": "stream",
     "text": [
      "My name is john and I am 30 years old.\n"
     ]
    }
   ],
   "source": [
    "#format\n",
    "my_string='My name is {} and I am {} years old.'\n",
    "print(my_string.format('john',30))"
   ]
  },
  {
   "cell_type": "code",
   "execution_count": 54,
   "id": "8772fbef-96b4-408a-92d2-02360cfa2988",
   "metadata": {},
   "outputs": [
    {
     "name": "stdout",
     "output_type": "stream",
     "text": [
      "My name is lohith and I am Age 18 years old.\n"
     ]
    }
   ],
   "source": [
    "#format_map\n",
    "my_string = 'My name is {name} and I am Age {age} years old.'\n",
    "mapping={'name':'lohith','age':'18'}\n",
    "print(my_string.format_map(mapping))\n"
   ]
  },
  {
   "cell_type": "code",
   "execution_count": 1,
   "id": "0ce0d969-3b4f-47ef-8edf-7fe22aa9ea68",
   "metadata": {},
   "outputs": [
    {
     "name": "stdout",
     "output_type": "stream",
     "text": [
      "0\n"
     ]
    }
   ],
   "source": [
    "#index\n",
    "my_string='lohith,datta!'\n",
    "print(my_string.index('lohith'))"
   ]
  },
  {
   "cell_type": "code",
   "execution_count": 3,
   "id": "5309b681-b7ec-4dc4-8282-4fce9c21aa92",
   "metadata": {},
   "outputs": [
    {
     "name": "stdout",
     "output_type": "stream",
     "text": [
      "True\n"
     ]
    }
   ],
   "source": [
    "#isalnum\n",
    "my_string='hello456'\n",
    "print(my_string.isalnum())"
   ]
  },
  {
   "cell_type": "code",
   "execution_count": 5,
   "id": "4b1d1bf0-0bb8-4e4c-a35d-aad7d5e173d4",
   "metadata": {},
   "outputs": [
    {
     "name": "stdout",
     "output_type": "stream",
     "text": [
      "True\n"
     ]
    }
   ],
   "source": [
    "#isalpha\n",
    "my_string='hello'\n",
    "print(my_string.isalpha())"
   ]
  },
  {
   "cell_type": "code",
   "execution_count": 9,
   "id": "dbb5cf7b-7b33-4e36-bf35-304b44f32f2a",
   "metadata": {},
   "outputs": [
    {
     "name": "stdout",
     "output_type": "stream",
     "text": [
      "True\n"
     ]
    }
   ],
   "source": [
    "#isdecimal()\n",
    "my_string='456'\n",
    "print(my_string.isdecimal())"
   ]
  },
  {
   "cell_type": "code",
   "execution_count": 11,
   "id": "3dddcf12-978f-431a-b509-15ca6275b604",
   "metadata": {},
   "outputs": [
    {
     "name": "stdout",
     "output_type": "stream",
     "text": [
      "True\n"
     ]
    }
   ],
   "source": [
    "#isdigit\n",
    "my_string='123'\n",
    "print(my_string.isdigit())"
   ]
  },
  {
   "cell_type": "code",
   "execution_count": 13,
   "id": "437ef241-c2fe-482f-a7cd-e3ff53257c81",
   "metadata": {},
   "outputs": [
    {
     "name": "stdout",
     "output_type": "stream",
     "text": [
      "True\n"
     ]
    }
   ],
   "source": [
    "#isidentifier\n",
    "my_string='lohith'\n",
    "print(my_string.isidentifier())"
   ]
  },
  {
   "cell_type": "code",
   "execution_count": 15,
   "id": "4afc9eff-f203-48e8-be72-07f9157dca62",
   "metadata": {},
   "outputs": [
    {
     "name": "stdout",
     "output_type": "stream",
     "text": [
      "True\n"
     ]
    }
   ],
   "source": [
    "#isslower\n",
    "my_string='hello'\n",
    "print(my_string.islower())"
   ]
  },
  {
   "cell_type": "code",
   "execution_count": 17,
   "id": "0afa47a4-4642-4ef6-8b4e-8ddbd91425c4",
   "metadata": {},
   "outputs": [
    {
     "name": "stdout",
     "output_type": "stream",
     "text": [
      "True\n"
     ]
    }
   ],
   "source": [
    "#isnumeric()\n",
    "my_string='456'\n",
    "print(my_string.isnumeric())"
   ]
  },
  {
   "cell_type": "code",
   "execution_count": 21,
   "id": "e2d79bfc-cdd2-4b21-b385-e84e93f91cdb",
   "metadata": {},
   "outputs": [
    {
     "name": "stdout",
     "output_type": "stream",
     "text": [
      "True\n"
     ]
    }
   ],
   "source": [
    "#isprintable()\n",
    "my_string='hello'\n",
    "print(my_string.isprintable())"
   ]
  },
  {
   "cell_type": "code",
   "execution_count": 25,
   "id": "881c70cd-9cc0-4cfe-88d2-699c171ded04",
   "metadata": {},
   "outputs": [
    {
     "name": "stdout",
     "output_type": "stream",
     "text": [
      "True\n"
     ]
    }
   ],
   "source": [
    "#isspace\n",
    "my_string='   '\n",
    "print(my_string.isspace())"
   ]
  },
  {
   "cell_type": "code",
   "execution_count": 31,
   "id": "140bb9c5-49b4-42a7-b312-09262df72c8e",
   "metadata": {},
   "outputs": [
    {
     "name": "stdout",
     "output_type": "stream",
     "text": [
      "True\n"
     ]
    }
   ],
   "source": [
    "#istitle\n",
    "my_string='Lohith,Datta!'\n",
    "print(my_string.istitle())"
   ]
  },
  {
   "cell_type": "code",
   "execution_count": 1,
   "id": "92c90930-084a-424a-b9c2-182d09c7789b",
   "metadata": {},
   "outputs": [
    {
     "data": {
      "text/plain": [
       "True"
      ]
     },
     "execution_count": 1,
     "metadata": {},
     "output_type": "execute_result"
    }
   ],
   "source": [
    "#isdecimal\n",
    "string4=\"1276215321\"\n",
    "is_decimal=string4.isdecimal()\n",
    "is_decimal\n"
   ]
  },
  {
   "cell_type": "code",
   "execution_count": 3,
   "id": "1ac80609-0696-4ed3-8cf2-e2340417d5d6",
   "metadata": {},
   "outputs": [
    {
     "data": {
      "text/plain": [
       "True"
      ]
     },
     "execution_count": 3,
     "metadata": {},
     "output_type": "execute_result"
    }
   ],
   "source": [
    "#isdigit\n",
    "string5=\"1276215321\"\n",
    "is_digit=string5.isdigit()\n",
    "is_digit"
   ]
  },
  {
   "cell_type": "code",
   "execution_count": 5,
   "id": "f8cc83e6-4e97-466f-9bb9-a73709f399f6",
   "metadata": {},
   "outputs": [
    {
     "data": {
      "text/plain": [
       "True"
      ]
     },
     "execution_count": 5,
     "metadata": {},
     "output_type": "execute_result"
    }
   ],
   "source": [
    "#isidentifier\n",
    "string6=\"DEMO1\"\n",
    "is_identifier=string6.isidentifier()\n",
    "is_identifier"
   ]
  },
  {
   "cell_type": "code",
   "execution_count": 7,
   "id": "9eab60f5-bdf0-49da-beef-bc974b8cb92e",
   "metadata": {},
   "outputs": [
    {
     "data": {
      "text/plain": [
       "True"
      ]
     },
     "execution_count": 7,
     "metadata": {},
     "output_type": "execute_result"
    }
   ],
   "source": [
    "#islower\n",
    "string7=\"mother\"\n",
    "is_lower=string7.islower()\n",
    "is_lower"
   ]
  },
  {
   "cell_type": "code",
   "execution_count": 9,
   "id": "97f482ec-8329-47ff-b8d4-82f6354b869f",
   "metadata": {},
   "outputs": [
    {
     "data": {
      "text/plain": [
       "True"
      ]
     },
     "execution_count": 9,
     "metadata": {},
     "output_type": "execute_result"
    }
   ],
   "source": [
    "#isnumeric\n",
    "string8=\"7613899012303823723792739127317271292303702\"\n",
    "is_numeric=string8.isnumeric()\n",
    "is_numeric"
   ]
  },
  {
   "cell_type": "code",
   "execution_count": 11,
   "id": "1fc29425-4d66-417b-b5b7-9c4966a1d945",
   "metadata": {},
   "outputs": [
    {
     "data": {
      "text/plain": [
       "False"
      ]
     },
     "execution_count": 11,
     "metadata": {},
     "output_type": "execute_result"
    }
   ],
   "source": [
    "#isprintable\n",
    "string9=\"\\t \"\n",
    "is_printable=string9.isprintable()\n",
    "is_printable\n"
   ]
  },
  {
   "cell_type": "code",
   "execution_count": 13,
   "id": "7010e3e4-2664-4c79-b4b1-afa9e5cf6cb9",
   "metadata": {},
   "outputs": [
    {
     "data": {
      "text/plain": [
       "True"
      ]
     },
     "execution_count": 13,
     "metadata": {},
     "output_type": "execute_result"
    }
   ],
   "source": [
    "#isspace\n",
    "string10=\"   \"\n",
    "is_space=string10.isspace()\n",
    "is_space"
   ]
  },
  {
   "cell_type": "code",
   "execution_count": 15,
   "id": "3cd13696-5e0f-45f4-a17b-c6ac0d6c923c",
   "metadata": {},
   "outputs": [
    {
     "data": {
      "text/plain": [
       "True"
      ]
     },
     "execution_count": 15,
     "metadata": {},
     "output_type": "execute_result"
    }
   ],
   "source": [
    "#istitle\n",
    "string11=\"The Poet\"\n",
    "is_title=string11.istitle()\n",
    "is_title"
   ]
  },
  {
   "cell_type": "code",
   "execution_count": 17,
   "id": "4256a42f-9278-4e11-bf62-2cb955ac6a07",
   "metadata": {},
   "outputs": [
    {
     "name": "stdout",
     "output_type": "stream",
     "text": [
      "fruits are so good to eat\n"
     ]
    }
   ],
   "source": [
    "#rjust\n",
    "words=\"are so good to eat\"\n",
    "a=words.rjust(10)\n",
    "print(\"fruits\",a)"
   ]
  },
  {
   "cell_type": "code",
   "execution_count": 19,
   "id": "ef1772f1-79fe-4fca-bdc3-0f9a3f68dd94",
   "metadata": {},
   "outputs": [
    {
     "name": "stdout",
     "output_type": "stream",
     "text": [
      "Hello Ram\n"
     ]
    }
   ],
   "source": [
    "#maketrans\n",
    "string = \"Hello sam\"\n",
    "mytable = str.maketrans(\"s\", \"R\")\n",
    "print(string.translate(mytable))"
   ]
  },
  {
   "cell_type": "code",
   "execution_count": 27,
   "id": "c0334003-e8d5-4c63-95ef-a5128bdf46a3",
   "metadata": {},
   "outputs": [
    {
     "data": {
      "text/plain": [
       "('Hello ram ', \"i'm\", ' lohith')"
      ]
     },
     "execution_count": 27,
     "metadata": {},
     "output_type": "execute_result"
    }
   ],
   "source": [
    "#partition\n",
    "string = \"Hello ram i'm lohith\"\n",
    "x=string.partition(\"i'm\")\n",
    "x"
   ]
  },
  {
   "cell_type": "code",
   "execution_count": 29,
   "id": "aa4b832d-ead8-47aa-9f46-eb60b14e04cb",
   "metadata": {},
   "outputs": [
    {
     "data": {
      "text/plain": [
       "22"
      ]
     },
     "execution_count": 29,
     "metadata": {},
     "output_type": "execute_result"
    }
   ],
   "source": [
    "#rfind\n",
    "string = \"Hello ram i'm lohith, i'm an engineer\"\n",
    "x=string.rfind(\"i'm\")\n",
    "x"
   ]
  },
  {
   "cell_type": "code",
   "execution_count": 33,
   "id": "3b37730b-0682-4d68-b028-7b029debc9a0",
   "metadata": {},
   "outputs": [
    {
     "data": {
      "text/plain": [
       "22"
      ]
     },
     "execution_count": 33,
     "metadata": {},
     "output_type": "execute_result"
    }
   ],
   "source": [
    "#rindex\n",
    "string = \"Hello ram i'm lohith, i'm an engineer\"\n",
    "x=string.rindex(\"i'm\")\n",
    "x"
   ]
  },
  {
   "cell_type": "code",
   "execution_count": 31,
   "id": "862fbe70-db27-4396-ac62-6056c9ba1af0",
   "metadata": {},
   "outputs": [
    {
     "data": {
      "text/plain": [
       "(\"Hello ram i'm lohith, \", \"i'm\", ' an engineer')"
      ]
     },
     "execution_count": 31,
     "metadata": {},
     "output_type": "execute_result"
    }
   ],
   "source": [
    "#rpartition\n",
    "string = \"Hello ram i'm lohith, i'm an engineer\"\n",
    "x=string.rpartition(\"i'm\")\n",
    "x"
   ]
  },
  {
   "cell_type": "code",
   "execution_count": 37,
   "id": "1cc534d9-8372-44a8-9447-cc7e65fa6dc7",
   "metadata": {},
   "outputs": [
    {
     "data": {
      "text/plain": [
       "['Hello', 'ram', \"i'm\", 'lohith,', \"i'm\", 'an', 'engineer']"
      ]
     },
     "execution_count": 37,
     "metadata": {},
     "output_type": "execute_result"
    }
   ],
   "source": [
    "#.rsplit\n",
    "string = \"Hello ram i'm lohith, i'm an engineer\"\n",
    "x=string.rsplit(\" \")\n",
    "x"
   ]
  },
  {
   "cell_type": "code",
   "execution_count": 39,
   "id": "990f721b-6194-4f68-a5d1-73c1dd81ace9",
   "metadata": {},
   "outputs": [
    {
     "data": {
      "text/plain": [
       "['the man they called hero ', ' is a fraud']"
      ]
     },
     "execution_count": 39,
     "metadata": {},
     "output_type": "execute_result"
    }
   ],
   "source": [
    "#splitlines\n",
    "string = \"the man they called hero \\n is a fraud\"\n",
    "x=string.splitlines()\n",
    "x"
   ]
  },
  {
   "cell_type": "code",
   "execution_count": 41,
   "id": "34c10d2a-6e47-488d-a3b6-17e887f9660b",
   "metadata": {},
   "outputs": [
    {
     "data": {
      "text/plain": [
       "['the man they called hero ', ' is a fraud']"
      ]
     },
     "execution_count": 41,
     "metadata": {},
     "output_type": "execute_result"
    }
   ],
   "source": [
    "#splitlines\n",
    "string = \"the man they called hero \\n is a fraud\"\n",
    "x=string.splitlines()\n",
    "x"
   ]
  },
  {
   "cell_type": "code",
   "execution_count": 43,
   "id": "7be873bf-e127-4721-b785-df79ae22c0da",
   "metadata": {},
   "outputs": [
    {
     "name": "stdout",
     "output_type": "stream",
     "text": [
      "Hello Ram\n"
     ]
    }
   ],
   "source": [
    "#translate\n",
    "string = \"Hello sam\"\n",
    "my_trans = str.maketrans(\"s\", \"R\")\n",
    "print(string.translate(my_trans))"
   ]
  },
  {
   "cell_type": "code",
   "execution_count": 47,
   "id": "495c5b98-7486-436f-b297-3941414bd46f",
   "metadata": {},
   "outputs": [
    {
     "name": "stdout",
     "output_type": "stream",
     "text": [
      "00000000000000000000000000000000000000000000000000000000000000lohit loves eating food and having fun\n",
      "lohit loves eating food and having fun\n"
     ]
    }
   ],
   "source": [
    "#zfill\n",
    "x=\"lohit loves eating food and having fun\"\n",
    "print(x.zfill(100))\n",
    "print(x.zfill(10))"
   ]
  },
  {
   "cell_type": "code",
   "execution_count": null,
   "id": "df24ff1d-6600-42da-8379-928ef6f142ea",
   "metadata": {},
   "outputs": [],
   "source": []
  }
 ],
 "metadata": {
  "kernelspec": {
   "display_name": "Python 3 (ipykernel)",
   "language": "python",
   "name": "python3"
  },
  "language_info": {
   "codemirror_mode": {
    "name": "ipython",
    "version": 3
   },
   "file_extension": ".py",
   "mimetype": "text/x-python",
   "name": "python",
   "nbconvert_exporter": "python",
   "pygments_lexer": "ipython3",
   "version": "3.12.4"
  }
 },
 "nbformat": 4,
 "nbformat_minor": 5
}
