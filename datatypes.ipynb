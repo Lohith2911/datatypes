{
 "cells": [
  {
   "cell_type": "code",
   "execution_count": 11,
   "id": "d7999d44-fdcc-4797-8047-0b6addca4970",
   "metadata": {},
   "outputs": [],
   "source": [
    "#integers\n",
    "red=4\n",
    "bhanu=69\n",
    "lohith=49\n",
    "navya=10\n",
    "krishna=5\n",
    "santhosh=22\n",
    "sneha=15\n",
    "keerthi=6\n",
    "bala=42\n",
    "vamsi=55\n",
    "\n",
    "#float\n",
    "brown=1.5\n",
    "green=2.5\n",
    "pink=4.5\n",
    "orange=5.5\n",
    "krish=5.7\n",
    "nap=4.5\n",
    "sop=2.8\n",
    "sitt=8.2\n",
    "bus=4.4\n",
    "babu=5.8\n",
    "\n",
    "#complex\n",
    "a=2+5j\n",
    "b=5+6j\n",
    "c=4+9j\n",
    "d=5+2j\n",
    "m=8+9j\n",
    "k=5+7j\n",
    "d=9+1j\n",
    "r=2+3j\n",
    "e=5+9j\n",
    "t=4+5j\n"
   ]
  },
  {
   "cell_type": "code",
   "execution_count": 3,
   "id": "05353b25-1eac-4dcb-9b3e-89cedb603bac",
   "metadata": {},
   "outputs": [
    {
     "name": "stdout",
     "output_type": "stream",
     "text": [
      "223.0\n"
     ]
    }
   ],
   "source": [
    "#type conversions\n",
    "a=223\n",
    "A=float(a)\n",
    "print(A)"
   ]
  },
  {
   "cell_type": "code",
   "execution_count": 13,
   "id": "888d7cce-bf57-49bd-9b40-062db6e41547",
   "metadata": {},
   "outputs": [
    {
     "name": "stdout",
     "output_type": "stream",
     "text": [
      "225.0\n"
     ]
    }
   ],
   "source": [
    "b=225\n",
    "B=float(b)\n",
    "print(B)"
   ]
  },
  {
   "cell_type": "code",
   "execution_count": 15,
   "id": "b8b55bf6-618f-45d9-ab37-801ae7932f39",
   "metadata": {},
   "outputs": [
    {
     "name": "stdout",
     "output_type": "stream",
     "text": [
      "335.0\n"
     ]
    }
   ],
   "source": [
    "c=335\n",
    "C=float(c)\n",
    "print(C)"
   ]
  },
  {
   "cell_type": "code",
   "execution_count": 19,
   "id": "f74b2a44-17c7-475b-b886-31b81c7010de",
   "metadata": {},
   "outputs": [
    {
     "name": "stdout",
     "output_type": "stream",
     "text": [
      "445.0\n"
     ]
    }
   ],
   "source": [
    "d=445\n",
    "D=float(d)\n",
    "print(D)\n"
   ]
  },
  {
   "cell_type": "code",
   "execution_count": 21,
   "id": "63ebde7f-c32a-411a-ba03-cea21eed439f",
   "metadata": {},
   "outputs": [
    {
     "name": "stdout",
     "output_type": "stream",
     "text": [
      "220.0\n"
     ]
    }
   ],
   "source": [
    "e=220\n",
    "E=float(e)\n",
    "print(E)"
   ]
  },
  {
   "cell_type": "code",
   "execution_count": 23,
   "id": "0aab3a50-a21c-45bb-a9b2-b66dd48df42b",
   "metadata": {},
   "outputs": [
    {
     "name": "stdout",
     "output_type": "stream",
     "text": [
      "140.0\n"
     ]
    }
   ],
   "source": [
    "f=140\n",
    "F=float(f)\n",
    "print(F)"
   ]
  },
  {
   "cell_type": "code",
   "execution_count": 25,
   "id": "332fec51-fc2e-4173-8792-db50d22c4dc5",
   "metadata": {},
   "outputs": [
    {
     "name": "stdout",
     "output_type": "stream",
     "text": [
      "225.0\n"
     ]
    }
   ],
   "source": [
    "g=225\n",
    "G=float(g)\n",
    "print(G)"
   ]
  },
  {
   "cell_type": "code",
   "execution_count": 27,
   "id": "d1533f6a-d271-483b-a304-207f4ca896a5",
   "metadata": {},
   "outputs": [
    {
     "name": "stdout",
     "output_type": "stream",
     "text": [
      "570.0\n"
     ]
    }
   ],
   "source": [
    "h=570\n",
    "H=float(h)\n",
    "print(H)"
   ]
  },
  {
   "cell_type": "code",
   "execution_count": 29,
   "id": "f06f58a0-b637-41bd-b908-856e90f8e4ed",
   "metadata": {},
   "outputs": [
    {
     "name": "stdout",
     "output_type": "stream",
     "text": [
      "571.0\n"
     ]
    }
   ],
   "source": [
    "i=571\n",
    "I=float(i)\n",
    "print(I)"
   ]
  },
  {
   "cell_type": "code",
   "execution_count": 33,
   "id": "3abc6851-e380-4c27-8550-9619d140df6f",
   "metadata": {},
   "outputs": [
    {
     "name": "stdout",
     "output_type": "stream",
     "text": [
      "588.0\n"
     ]
    }
   ],
   "source": [
    "j=588\n",
    "J=float(j)\n",
    "print(J)"
   ]
  },
  {
   "cell_type": "code",
   "execution_count": 35,
   "id": "dff0debd-2d2b-4ae5-8699-e63b4b552511",
   "metadata": {},
   "outputs": [
    {
     "name": "stdout",
     "output_type": "stream",
     "text": [
      "2\n"
     ]
    }
   ],
   "source": [
    "#float-->int\n",
    "_a=2.44\n",
    "_1=int(_a)\n",
    "print(_1)"
   ]
  },
  {
   "cell_type": "code",
   "execution_count": 37,
   "id": "b42928ac-6174-4049-8390-e61173b764d2",
   "metadata": {},
   "outputs": [
    {
     "name": "stdout",
     "output_type": "stream",
     "text": [
      "3\n"
     ]
    }
   ],
   "source": [
    "_b=3.44\n",
    "_2=int(_b)\n",
    "print(_2)"
   ]
  },
  {
   "cell_type": "code",
   "execution_count": 39,
   "id": "87d83409-6723-4e8a-a81b-d606692c1ab7",
   "metadata": {},
   "outputs": [
    {
     "name": "stdout",
     "output_type": "stream",
     "text": [
      "4\n"
     ]
    }
   ],
   "source": [
    "_c=4.45\n",
    "_3=int(_c)\n",
    "print(_3)\n"
   ]
  },
  {
   "cell_type": "code",
   "execution_count": 41,
   "id": "d32e16a2-4ecc-4384-a02f-1adeec1c18bc",
   "metadata": {},
   "outputs": [
    {
     "name": "stdout",
     "output_type": "stream",
     "text": [
      "5\n"
     ]
    }
   ],
   "source": [
    "_d=5.25\n",
    "_4=int(_d)\n",
    "print(_4)"
   ]
  },
  {
   "cell_type": "code",
   "execution_count": 43,
   "id": "800aa87c-bee5-46a1-a3cf-c5909c6c2a38",
   "metadata": {},
   "outputs": [
    {
     "name": "stdout",
     "output_type": "stream",
     "text": [
      "6\n"
     ]
    }
   ],
   "source": [
    "_e=6.75\n",
    "_5=int(_e)\n",
    "print(_5)"
   ]
  },
  {
   "cell_type": "code",
   "execution_count": 45,
   "id": "fa70869d-cdf9-4b9f-97cc-d898a55fc3fd",
   "metadata": {},
   "outputs": [
    {
     "name": "stdout",
     "output_type": "stream",
     "text": [
      "7\n"
     ]
    }
   ],
   "source": [
    "_f=7.75\n",
    "_6=int(_f)\n",
    "print(_6)"
   ]
  },
  {
   "cell_type": "code",
   "execution_count": 51,
   "id": "4ec0bdd4-897d-4b1e-9a2d-e56480de02ea",
   "metadata": {},
   "outputs": [
    {
     "name": "stdout",
     "output_type": "stream",
     "text": [
      "8\n"
     ]
    }
   ],
   "source": [
    "_g=8.85\n",
    "_7=int(_g)\n",
    "print(_7)"
   ]
  },
  {
   "cell_type": "code",
   "execution_count": 55,
   "id": "b0aef7ed-fe78-4a93-a7b6-05cb0ec337a3",
   "metadata": {},
   "outputs": [
    {
     "name": "stdout",
     "output_type": "stream",
     "text": [
      "570\n"
     ]
    }
   ],
   "source": [
    "_h=9.98\n",
    "_8=int(h)\n",
    "print(_8)"
   ]
  },
  {
   "cell_type": "code",
   "execution_count": 53,
   "id": "8ec97902-46f6-4e07-8976-92ab561e25bc",
   "metadata": {},
   "outputs": [
    {
     "name": "stdout",
     "output_type": "stream",
     "text": [
      "10\n"
     ]
    }
   ],
   "source": [
    "_i=10.88\n",
    "_9=int(_i)\n",
    "print(_9)"
   ]
  },
  {
   "cell_type": "code",
   "execution_count": 57,
   "id": "9501088f-f352-403e-87e1-9fc07bdf7f79",
   "metadata": {},
   "outputs": [
    {
     "name": "stdout",
     "output_type": "stream",
     "text": [
      "(1+0j)\n"
     ]
    }
   ],
   "source": [
    "#int-->complex and float-->complex\n",
    "\n",
    "a_1=1\n",
    "air=complex(a_1)\n",
    "print(air)"
   ]
  },
  {
   "cell_type": "code",
   "execution_count": 59,
   "id": "41716cfe-0e6f-4b95-a398-cc9f446b7505",
   "metadata": {},
   "outputs": [
    {
     "name": "stdout",
     "output_type": "stream",
     "text": [
      "(335+0j)\n"
     ]
    }
   ],
   "source": [
    "b_2=335\n",
    "beer=complex(b_2)\n",
    "print(beer)"
   ]
  },
  {
   "cell_type": "code",
   "execution_count": null,
   "id": "47e73b93-17b3-40b4-afe2-02771060fbdf",
   "metadata": {},
   "outputs": [],
   "source": [
    "c_2=445\n"
   ]
  }
 ],
 "metadata": {
  "kernelspec": {
   "display_name": "Python 3 (ipykernel)",
   "language": "python",
   "name": "python3"
  },
  "language_info": {
   "codemirror_mode": {
    "name": "ipython",
    "version": 3
   },
   "file_extension": ".py",
   "mimetype": "text/x-python",
   "name": "python",
   "nbconvert_exporter": "python",
   "pygments_lexer": "ipython3",
   "version": "3.12.4"
  }
 },
 "nbformat": 4,
 "nbformat_minor": 5
}
