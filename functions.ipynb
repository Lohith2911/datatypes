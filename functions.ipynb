{
 "cells": [
  {
   "cell_type": "code",
   "execution_count": 1,
   "id": "357b2b3f-6618-44c8-b506-4ca86fa66536",
   "metadata": {},
   "outputs": [
    {
     "name": "stdout",
     "output_type": "stream",
     "text": [
      "questions and answers\n",
      "980\n"
     ]
    }
   ],
   "source": [
    "#python functions\n",
    "#a function is a block of code that performs a specifi task\n",
    "\n",
    "#types of functions\n",
    "#1.standard library functions:also called as inbuilt funcyions like sum(),input(),max(),min(),pow()\n",
    "#2.user defined functions\n",
    "\n",
    "#syntax:\n",
    "#def function_name(arguments):\n",
    "#    return\n",
    "\n",
    "#calling a function \n",
    "def Exam(a):\n",
    "    print(f\"questions and {a}\")\n",
    "Exam(\"answers\")\n",
    "\n",
    "#python function Arguments and return statement\n",
    "def multiplication_numbers(a,b,c):\n",
    "    mul=a*b*c\n",
    "    return mul\n",
    "print(multiplication_numbers(14,14,5))"
   ]
  },
  {
   "cell_type": "code",
   "execution_count": null,
   "id": "06967caa-9934-48c0-af94-47cf4055e542",
   "metadata": {},
   "outputs": [],
   "source": []
  },
  {
   "cell_type": "code",
   "execution_count": 4,
   "id": "ba3657b9-a2dc-4455-9ed7-18721bc3e2fa",
   "metadata": {},
   "outputs": [
    {
     "name": "stdout",
     "output_type": "stream",
     "text": [
      "Odd number\n",
      "Even number\n",
      "Odd number\n"
     ]
    }
   ],
   "source": [
    "#1.even or odd with functions\n",
    "def even_or_odd(n):\n",
    "    if n%2==0:\n",
    "        print(\"Even number\")\n",
    "    else:\n",
    "        print(\"Odd number\")\n",
    "\n",
    "even_or_odd(27)\n",
    "even_or_odd(4)\n",
    "even_or_odd(55555)"
   ]
  },
  {
   "cell_type": "code",
   "execution_count": 6,
   "id": "e6f5b2ca-9efe-4d94-85cc-5ba1f639157d",
   "metadata": {},
   "outputs": [
    {
     "name": "stdout",
     "output_type": "stream",
     "text": [
      "32\n",
      "1312\n"
     ]
    }
   ],
   "source": [
    "#Maximum among three numbers with functions\n",
    "def maxi(a,b,c):\n",
    "    if a>b and a>c:\n",
    "        print(a)\n",
    "    elif b>a and b>c:\n",
    "        print(b)\n",
    "    else:\n",
    "        print(c)\n",
    "\n",
    "maxi(14,32,3)\n",
    "maxi(1312,41,22.112212)"
   ]
  },
  {
   "cell_type": "code",
   "execution_count": 8,
   "id": "41fbf3ec-3ecd-4d4b-840c-611624ab374a",
   "metadata": {},
   "outputs": [
    {
     "name": "stdout",
     "output_type": "stream",
     "text": [
      "5.55\n",
      "6\n"
     ]
    }
   ],
   "source": [
    "#Minimum among three numbers with functions\n",
    "def mini(a,b,c):\n",
    "    if a<b and a<c:\n",
    "        print(a)\n",
    "    elif b<a and b<c:\n",
    "        print(b)\n",
    "    else:\n",
    "        print(c)\n",
    "\n",
    "mini(5.55,8,71)\n",
    "mini(354,6,421)"
   ]
  },
  {
   "cell_type": "code",
   "execution_count": null,
   "id": "97b17d8b-3a9c-4ee5-817f-6733865b5f45",
   "metadata": {},
   "outputs": [],
   "source": [
    "#grading system using functions\n",
    "def grade_of(m):\n",
    "    if m>=91 and m<=100:\n",
    "        print(\"grade A\")\n",
    "    elif m>=81 and m<=90:\n",
    "        print(\"grade B\")\n",
    "    elif m>=71 and m<=80:\n",
    "        print(\"grade C\")\n",
    "    elif m>=61 and m<=70:\n",
    "        print(\"grade D\")\n",
    "    elif m>=51 and m<=60:\n",
    "        print(\"grade E\")\n",
    "    else:\n",
    "        print(\"grade F\")\n",
    "\n",
    "grade_of(100)\n",
    "grade_of(55)\n",
    "grade_of(88)"
   ]
  }
 ],
 "metadata": {
  "kernelspec": {
   "display_name": "Python 3 (ipykernel)",
   "language": "python",
   "name": "python3"
  },
  "language_info": {
   "codemirror_mode": {
    "name": "ipython",
    "version": 3
   },
   "file_extension": ".py",
   "mimetype": "text/x-python",
   "name": "python",
   "nbconvert_exporter": "python",
   "pygments_lexer": "ipython3",
   "version": "3.12.4"
  }
 },
 "nbformat": 4,
 "nbformat_minor": 5
}
